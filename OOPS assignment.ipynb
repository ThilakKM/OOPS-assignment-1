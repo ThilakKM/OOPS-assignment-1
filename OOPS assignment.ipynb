{
 "cells": [
  {
   "cell_type": "markdown",
   "id": "d3866e68",
   "metadata": {},
   "source": [
    "# 1st CHALLANGE"
   ]
  },
  {
   "cell_type": "code",
   "execution_count": 2,
   "id": "423f16ca",
   "metadata": {},
   "outputs": [
    {
     "name": "stdout",
     "output_type": "stream",
     "text": [
      "35\n"
     ]
    }
   ],
   "source": [
    "class Addition():\n",
    "    def __init__(self):\n",
    "        self.x = 1\n",
    "        self.y = 3\n",
    "        self.z = 5\n",
    "        \n",
    "    def sqSum(self):\n",
    "        print (self.x**2 + self.y**2 + self.z**2)\n",
    "    \n",
    "s = Addition()\n",
    "s.sqSum()"
   ]
  },
  {
   "cell_type": "code",
   "execution_count": 3,
   "id": "20385893",
   "metadata": {},
   "outputs": [
    {
     "name": "stdout",
     "output_type": "stream",
     "text": [
      "35\n"
     ]
    }
   ],
   "source": [
    "class Addition():\n",
    "    def __init__(self,x,y,z):\n",
    "        self.x = x\n",
    "        self.y = y\n",
    "        self.z = z\n",
    "        \n",
    "    def sqSum(self):\n",
    "        print (self.x**2 + self.y**2 + self.z**2)\n",
    "    \n",
    "s = Addition(1,3,5)\n",
    "s.sqSum()"
   ]
  },
  {
   "cell_type": "markdown",
   "id": "5c7d8bc8",
   "metadata": {},
   "source": [
    "# 2nd CHALLANGE"
   ]
  },
  {
   "cell_type": "code",
   "execution_count": 4,
   "id": "32c5c19f",
   "metadata": {},
   "outputs": [
    {
     "name": "stdout",
     "output_type": "stream",
     "text": [
      "obj1.Total = 210\n",
      "70.0\n"
     ]
    }
   ],
   "source": [
    "class Student():\n",
    "    def __init__(self,name,phy,chem,bio):\n",
    "        self.name = name\n",
    "        self.physics = phy\n",
    "        self.chemistry = chem\n",
    "        self.biology = bio\n",
    "        \n",
    "    def totalObtained(self):\n",
    "        self.marks_obtained = self.physics + self.chemistry + self.biology\n",
    "        print (f'obj1.Total = {self.marks_obtained}')\n",
    "    \n",
    "    def percentage(self):\n",
    "        self.percentage = (self.marks_obtained * 100) / 300\n",
    "        print (self.percentage)\n",
    "    \n",
    "s = Student('Thilak',80,90,40)\n",
    "s.totalObtained()\n",
    "s.percentage()"
   ]
  },
  {
   "cell_type": "code",
   "execution_count": 5,
   "id": "82deed8b",
   "metadata": {},
   "outputs": [
    {
     "name": "stdout",
     "output_type": "stream",
     "text": [
      "obj1.Total = 210\n",
      "70.0\n"
     ]
    }
   ],
   "source": [
    "class Student():\n",
    "    def __init__(self):\n",
    "        self.name = \"Thilak\"\n",
    "        self.physics = 80\n",
    "        self.chemistry = 90\n",
    "        self.biology = 40\n",
    "        \n",
    "    def totalObtained(self):\n",
    "        self.marks_obtained = self.physics + self.chemistry + self.biology\n",
    "        return (f'obj1.Total = {self.marks_obtained}')\n",
    "    \n",
    "    def percentage(self):\n",
    "        self.percentage = (self.marks_obtained * 100) / 300\n",
    "        return (self.percentage)\n",
    "    \n",
    "s = Student()\n",
    "print(s.totalObtained())\n",
    "print(s.percentage())"
   ]
  },
  {
   "cell_type": "markdown",
   "id": "70158ccb",
   "metadata": {},
   "source": [
    "# 3rd CHALLANGE"
   ]
  },
  {
   "cell_type": "code",
   "execution_count": 6,
   "id": "09df7a45",
   "metadata": {},
   "outputs": [
    {
     "name": "stdout",
     "output_type": "stream",
     "text": [
      "Enter first number : 10\n",
      "Enter second number : 94\n",
      "Addition = 104\n",
      "Subtraction = 84\n",
      "Multiplication = 940\n",
      "Dividision = 0.10638297872340426\n"
     ]
    }
   ],
   "source": [
    "class Calculator:\n",
    "\n",
    "    def __init__(self,num1,num2):\n",
    "        self.num1 = num1\n",
    "        self.num2 = num2\n",
    "        \n",
    "    def add(self):\n",
    "        print (f'Addition = {self.num1 + self.num2}')\n",
    "    \n",
    "    def subtract(self):\n",
    "        print (f'Subtraction = {self.num2 - self.num1}')\n",
    "    \n",
    "    def  multiply(self):\n",
    "        print (f'Multiplication = {self.num1 * self.num2}')\n",
    "    \n",
    "    def divide(self):\n",
    "        print (f'Dividision = {self.num1 / self.num2}')\n",
    "\n",
    "num1 = int(input(\"Enter first number : \"))\n",
    "num2 = int(input(\"Enter second number : \"))\n",
    "obj = Calculator(num1,num2)\n",
    "obj.add()\n",
    "obj.subtract()\n",
    "obj.multiply()\n",
    "obj.divide()"
   ]
  },
  {
   "cell_type": "code",
   "execution_count": 7,
   "id": "103bddb0",
   "metadata": {},
   "outputs": [
    {
     "name": "stdout",
     "output_type": "stream",
     "text": [
      "Addition = 104\n",
      "Subtraction = 84\n",
      "Multiplication = 940\n",
      "Dividision = 0.10638297872340426\n"
     ]
    }
   ],
   "source": [
    "class Calculator:\n",
    "\n",
    "    def __init__(self,num1,num2):\n",
    "        self.num1 = num1\n",
    "        self.num2 = num2\n",
    "        \n",
    "    def add(self):\n",
    "        print (f'Addition = {self.num1 + self.num2}')\n",
    "    \n",
    "    def subtract(self):\n",
    "        if self.num1 < self.num2:\n",
    "            self.num2 = -self.num2\n",
    "            self.num1 = -self.num1\n",
    "            print (f'Subtraction = {self.num1 - self.num2}')\n",
    "        else:\n",
    "            print (f'Subtraction = {self.num1 - self.num2}')\n",
    "    \n",
    "    def  multiply(self):\n",
    "        print (f'Multiplication = {self.num1 * self.num2}')\n",
    "    \n",
    "    def divide(self):\n",
    "        print (f'Dividision = {self.num1 / self.num2}')\n",
    "\n",
    "obj = Calculator(10,94)\n",
    "obj.add()\n",
    "obj.subtract()\n",
    "obj.multiply()\n",
    "obj.divide()"
   ]
  },
  {
   "cell_type": "code",
   "execution_count": 8,
   "id": "0b398bc5",
   "metadata": {},
   "outputs": [
    {
     "name": "stdout",
     "output_type": "stream",
     "text": [
      "Addition = 104\n",
      "Subtraction = -84\n",
      "Multiplication = 940\n",
      "Dividision = 0.10638297872340426\n"
     ]
    }
   ],
   "source": [
    "class Calculator:\n",
    "\n",
    "    def __init__(self,num1,num2):\n",
    "        self.num1 = num1\n",
    "        self.num2 = num2\n",
    "        \n",
    "    def add(self):\n",
    "        print (f'Addition = {self.num1 + self.num2}')\n",
    "    \n",
    "    def subtract(self):\n",
    "        print (f'Subtraction = {self.num1 - self.num2}')\n",
    "    \n",
    "    def  multiply(self):\n",
    "        print (f'Multiplication = {self.num1 * self.num2}')\n",
    "    \n",
    "    def divide(self):\n",
    "        print (f'Dividision = {self.num1 / self.num2}')\n",
    "\n",
    "obj = Calculator(10,94)\n",
    "obj.add()\n",
    "obj.subtract()\n",
    "obj.multiply()\n",
    "obj.divide()"
   ]
  }
 ],
 "metadata": {
  "kernelspec": {
   "display_name": "Python 3 (ipykernel)",
   "language": "python",
   "name": "python3"
  },
  "language_info": {
   "codemirror_mode": {
    "name": "ipython",
    "version": 3
   },
   "file_extension": ".py",
   "mimetype": "text/x-python",
   "name": "python",
   "nbconvert_exporter": "python",
   "pygments_lexer": "ipython3",
   "version": "3.10.2"
  }
 },
 "nbformat": 4,
 "nbformat_minor": 5
}
